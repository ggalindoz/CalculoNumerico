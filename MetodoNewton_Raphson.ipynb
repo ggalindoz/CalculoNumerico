{
  "nbformat": 4,
  "nbformat_minor": 0,
  "metadata": {
    "colab": {
      "name": "MetodoNewton-Raphson.ipynb",
      "provenance": [],
      "authorship_tag": "ABX9TyMy1PaSPtNZTDGuJ9iBNv7L",
      "include_colab_link": true
    },
    "kernelspec": {
      "name": "python3",
      "display_name": "Python 3"
    },
    "language_info": {
      "name": "python"
    }
  },
  "cells": [
    {
      "cell_type": "markdown",
      "metadata": {
        "id": "view-in-github",
        "colab_type": "text"
      },
      "source": [
        "<a href=\"https://colab.research.google.com/github/ggalindoz/CalculoNumerico/blob/main/MetodoNewton_Raphson.ipynb\" target=\"_parent\"><img src=\"https://colab.research.google.com/assets/colab-badge.svg\" alt=\"Open In Colab\"/></a>"
      ]
    },
    {
      "cell_type": "code",
      "metadata": {
        "id": "xXGHgtVJhq_l"
      },
      "source": [
        "import numpy as np\n",
        "import math as mt\n"
      ],
      "execution_count": 1,
      "outputs": []
    },
    {
      "cell_type": "markdown",
      "metadata": {
        "id": "QRkvxUbNJ5Br"
      },
      "source": [
        "Definição das funções:"
      ]
    },
    {
      "cell_type": "code",
      "metadata": {
        "id": "epB3VStoKH59"
      },
      "source": [
        "def funcaoEx18(x):\n",
        "  return mt.exp(-(x**2))-mt.cos(x)\n",
        "\n",
        "def funcaoEx19(x):\n",
        "  return mt.pow(x,3) -x -1\n",
        "\n",
        "def funcaoEx20(x):\n",
        "  return 4 * mt.sin(x) - mt.exp(x)\n",
        "\n",
        "def funcaoEx21(x):\n",
        "  return x * mt.log10(x) -1"
      ],
      "execution_count": 2,
      "outputs": []
    },
    {
      "cell_type": "markdown",
      "metadata": {
        "id": "Bb9EGL0IJ8O_"
      },
      "source": [
        "Definição da Derivada:"
      ]
    },
    {
      "cell_type": "code",
      "metadata": {
        "id": "-K9Lud1aKGC9"
      },
      "source": [
        "def derivada(x,h):\n",
        "  return (funcaoEx21(x+h) - funcaoEx21(x))/h"
      ],
      "execution_count": 14,
      "outputs": []
    },
    {
      "cell_type": "markdown",
      "metadata": {
        "id": "5Fq7-nYvGOj2"
      },
      "source": [
        "Exercício 18)"
      ]
    },
    {
      "cell_type": "code",
      "metadata": {
        "colab": {
          "base_uri": "https://localhost:8080/"
        },
        "id": "_PUNGyDMYihI",
        "outputId": "63708acc-7786-44b9-f0fc-79a0e3b974f5"
      },
      "source": [
        "iteracaoMax = 30\n",
        "x = 1.5\n",
        "n =1\n",
        "tolerancia = 1e-4\n",
        "h = 0.00001\n",
        "\n",
        "while n < iteracaoMax:\n",
        "  x = x - (funcaoEx18(x)/derivada(x,h))\n",
        "    \n",
        "  if np.fabs(funcaoEx18(x)) <=tolerancia:\n",
        "    print('Solucao encontrada: ', x)\n",
        "    print('Iteracoes: ', n)\n",
        "    print('F(x): ', funcaoEx18(x))\n",
        "    break\n",
        "  n = n+1\n",
        "    \n",
        "\n",
        "if n==iteracaoMax:\n",
        "  print('Numero maximo de iteracoes foi atingido', x)\n"
      ],
      "execution_count": 6,
      "outputs": [
        {
          "output_type": "stream",
          "name": "stdout",
          "text": [
            "Solucao encontrada:  1.4474163598625078\n",
            "Iteracoes:  2\n",
            "F(x):  1.3286093857728387e-06\n"
          ]
        }
      ]
    },
    {
      "cell_type": "markdown",
      "metadata": {
        "id": "ySuN-SCpGW8u"
      },
      "source": [
        "Exercício 19)"
      ]
    },
    {
      "cell_type": "code",
      "metadata": {
        "id": "Wm20styUiDK_",
        "colab": {
          "base_uri": "https://localhost:8080/"
        },
        "outputId": "2e180f41-396c-4afa-e736-b857b675bb9a"
      },
      "source": [
        "\n",
        "iteracaoMax = 30\n",
        "x = 0\n",
        "n =1\n",
        "tolerancia = 1e-4\n",
        "h = 0.00001\n",
        "\n",
        "while n < iteracaoMax:\n",
        "  x = x - (funcaoEx19(x)/derivada(x,h))\n",
        "  \n",
        "  if np.fabs(funcaoEx19(x)) <=tolerancia:\n",
        "    print('Solucao encontrada: ', x)\n",
        "    print('Iteracoes: ', n)\n",
        "    print('F(x): ', funcaoEx19(x))\n",
        "    break\n",
        "  n = n+1\n",
        "    \n",
        "\n",
        "if n==iteracaoMax:\n",
        "  print('Numero maximo de iteracoes foi atingido', x)\n",
        "\n"
      ],
      "execution_count": 11,
      "outputs": [
        {
          "output_type": "stream",
          "name": "stdout",
          "text": [
            "Solucao encontrada:  1.3247180262201348\n",
            "Iteracoes:  19\n",
            "F(x):  2.941547379009535e-07\n"
          ]
        }
      ]
    },
    {
      "cell_type": "markdown",
      "metadata": {
        "id": "bnp3pBlbGZaN"
      },
      "source": [
        "Exercício 20)"
      ]
    },
    {
      "cell_type": "code",
      "metadata": {
        "colab": {
          "base_uri": "https://localhost:8080/"
        },
        "id": "-cl4qv46IBUL",
        "outputId": "5d0aed10-0679-4f04-9d9b-a105ef573bc8"
      },
      "source": [
        "iteracaoMax = 30\n",
        "x = 0.5\n",
        "n =1\n",
        "tolerancia = 1e-4\n",
        "h = 0.00001\n",
        "\n",
        "while n < iteracaoMax:\n",
        "  x = x - (funcaoEx20(x)/derivada(x,h))\n",
        "    \n",
        "  if np.fabs(funcaoEx20(x)) <=tolerancia:\n",
        "    print('Solucao encontrada: ', x)\n",
        "    print('Iteracoes: ', n)\n",
        "    print('F(x): ', funcaoEx20(x))\n",
        "    break\n",
        "  n = n+1\n",
        "    \n",
        "\n",
        "if n==iteracaoMax:\n",
        "  print('Numero maximo de iteracoes foi atingido', x)"
      ],
      "execution_count": 13,
      "outputs": [
        {
          "output_type": "stream",
          "name": "stdout",
          "text": [
            "Solucao encontrada:  0.3705580846528136\n",
            "Iteracoes:  3\n",
            "F(x):  -2.580231805993094e-08\n"
          ]
        }
      ]
    },
    {
      "cell_type": "markdown",
      "metadata": {
        "id": "Rs6rngRAGbKu"
      },
      "source": [
        "Exercício 21)"
      ]
    },
    {
      "cell_type": "code",
      "metadata": {
        "colab": {
          "base_uri": "https://localhost:8080/"
        },
        "id": "FKOz3he3Iy55",
        "outputId": "d308844f-0990-40c6-cccd-38b9cde5a2e9"
      },
      "source": [
        "iteracaoMax = 30\n",
        "x = 2.5\n",
        "n =1\n",
        "tolerancia = 1e-4\n",
        "h = 0.00001\n",
        "\n",
        "while n < iteracaoMax:\n",
        "  x = x - (funcaoEx21(x)/derivada(x,h))\n",
        "    \n",
        "  if np.fabs(funcaoEx21(x)) <=tolerancia:\n",
        "    print('Solucao encontrada: ', x)\n",
        "    print('Iteracoes: ', n)\n",
        "    print('F(x): ', funcaoEx21(x))\n",
        "    break\n",
        "  n = n+1\n",
        "    \n",
        "\n",
        "if n==iteracaoMax:\n",
        "  print('Numero maximo de iteracoes foi atingido', x)"
      ],
      "execution_count": 15,
      "outputs": [
        {
          "output_type": "stream",
          "name": "stdout",
          "text": [
            "Solucao encontrada:  2.506188127268507\n",
            "Iteracoes:  1\n",
            "F(x):  3.317964803128959e-06\n"
          ]
        }
      ]
    }
  ]
}